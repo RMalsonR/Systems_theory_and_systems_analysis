{
 "cells": [
  {
   "cell_type": "code",
   "execution_count": 11,
   "metadata": {},
   "outputs": [],
   "source": [
    "import numpy as np\n",
    "import pandas as pd\n",
    "from scipy.optimize import linprog\n",
    "import warnings\n",
    "warnings.filterwarnings('ignore')"
   ]
  },
  {
   "cell_type": "code",
   "execution_count": 12,
   "metadata": {},
   "outputs": [],
   "source": [
    "table_data = pd.read_csv('data_table.csv', index_col='Сырье')\n",
    "prices = pd.read_csv('prices.csv')"
   ]
  },
  {
   "cell_type": "code",
   "execution_count": 13,
   "metadata": {},
   "outputs": [
    {
     "data": {
      "text/html": [
       "<div>\n",
       "<style scoped>\n",
       "    .dataframe tbody tr th:only-of-type {\n",
       "        vertical-align: middle;\n",
       "    }\n",
       "\n",
       "    .dataframe tbody tr th {\n",
       "        vertical-align: top;\n",
       "    }\n",
       "\n",
       "    .dataframe thead th {\n",
       "        text-align: right;\n",
       "    }\n",
       "</style>\n",
       "<table border=\"1\" class=\"dataframe\">\n",
       "  <thead>\n",
       "    <tr style=\"text-align: right;\">\n",
       "      <th></th>\n",
       "      <th>Запасы сырья</th>\n",
       "      <th>Затраты на стол</th>\n",
       "      <th>Затраты на стул</th>\n",
       "      <th>Затраты на бюро</th>\n",
       "      <th>Затраты на книжный шкаф</th>\n",
       "    </tr>\n",
       "    <tr>\n",
       "      <th>Сырье</th>\n",
       "      <th></th>\n",
       "      <th></th>\n",
       "      <th></th>\n",
       "      <th></th>\n",
       "      <th></th>\n",
       "    </tr>\n",
       "  </thead>\n",
       "  <tbody>\n",
       "    <tr>\n",
       "      <th>Доски 1</th>\n",
       "      <td>30</td>\n",
       "      <td>3</td>\n",
       "      <td>1</td>\n",
       "      <td>2</td>\n",
       "      <td>5</td>\n",
       "    </tr>\n",
       "    <tr>\n",
       "      <th>Доски 2</th>\n",
       "      <td>90</td>\n",
       "      <td>9</td>\n",
       "      <td>3</td>\n",
       "      <td>6</td>\n",
       "      <td>15</td>\n",
       "    </tr>\n",
       "    <tr>\n",
       "      <th>Труд. затраты</th>\n",
       "      <td>350</td>\n",
       "      <td>45</td>\n",
       "      <td>15</td>\n",
       "      <td>30</td>\n",
       "      <td>75</td>\n",
       "    </tr>\n",
       "  </tbody>\n",
       "</table>\n",
       "</div>"
      ],
      "text/plain": [
       "               Запасы сырья  Затраты на стол  Затраты на стул  \\\n",
       "Сырье                                                           \n",
       "Доски 1                  30                3                1   \n",
       "Доски 2                  90                9                3   \n",
       "Труд. затраты           350               45               15   \n",
       "\n",
       "               Затраты на бюро  Затраты на книжный шкаф  \n",
       "Сырье                                                    \n",
       "Доски 1                      2                        5  \n",
       "Доски 2                      6                       15  \n",
       "Труд. затраты               30                       75  "
      ]
     },
     "execution_count": 13,
     "metadata": {},
     "output_type": "execute_result"
    }
   ],
   "source": [
    "table_data.head()"
   ]
  },
  {
   "cell_type": "code",
   "execution_count": 14,
   "metadata": {},
   "outputs": [
    {
     "data": {
      "text/html": [
       "<div>\n",
       "<style scoped>\n",
       "    .dataframe tbody tr th:only-of-type {\n",
       "        vertical-align: middle;\n",
       "    }\n",
       "\n",
       "    .dataframe tbody tr th {\n",
       "        vertical-align: top;\n",
       "    }\n",
       "\n",
       "    .dataframe thead th {\n",
       "        text-align: right;\n",
       "    }\n",
       "</style>\n",
       "<table border=\"1\" class=\"dataframe\">\n",
       "  <thead>\n",
       "    <tr style=\"text-align: right;\">\n",
       "      <th></th>\n",
       "      <th>Цена стола</th>\n",
       "      <th>Цена стула</th>\n",
       "      <th>Цена бюро</th>\n",
       "      <th>Цена книжного шкафа</th>\n",
       "    </tr>\n",
       "  </thead>\n",
       "  <tbody>\n",
       "    <tr>\n",
       "      <th>0</th>\n",
       "      <td>210</td>\n",
       "      <td>70</td>\n",
       "      <td>140</td>\n",
       "      <td>350</td>\n",
       "    </tr>\n",
       "  </tbody>\n",
       "</table>\n",
       "</div>"
      ],
      "text/plain": [
       "   Цена стола  Цена стула  Цена бюро  Цена книжного шкафа\n",
       "0         210          70        140                  350"
      ]
     },
     "execution_count": 14,
     "metadata": {},
     "output_type": "execute_result"
    }
   ],
   "source": [
    "prices.head()"
   ]
  },
  {
   "cell_type": "markdown",
   "metadata": {},
   "source": [
    "$\\Large F=c_{1}*x_{1}+c_{2}*x_{2}+c_{3}*x_{3}+c_{4}*x_{4} \\xrightarrow{} max $"
   ]
  },
  {
   "cell_type": "markdown",
   "metadata": {},
   "source": [
    "$\\Large \\begin{cases} a_{11}*x_1 + a_{12}*x_2 + a_{13}*x_3 + a_{14}*x_4 \\leq b_1 \\\\ a_{21}*x_1 + a_{22}*x_2 + a_{23}*x_3 + a_{24}*x_4 \\leq b_2 \\\\ a_{31}*x_1 + a_{32}*x_2 + a_{33}*x_3 + a_{34}*x_4 \\leq b_3 \\end{cases}$"
   ]
  },
  {
   "cell_type": "code",
   "execution_count": 15,
   "metadata": {},
   "outputs": [],
   "source": [
    "def fill_c(prices: pd.DataFrame):\n",
    "    \"\"\"\n",
    "    Считываем переменные целевой функции, умножив их на -1, и заполняем ими массив\n",
    "    :param: prices: DataFrame with values\n",
    "    :return: 1D array of values\n",
    "    \"\"\"\n",
    "    negative_vals = prices.apply(lambda x: x*(-1))\n",
    "    return negative_vals.values"
   ]
  },
  {
   "cell_type": "code",
   "execution_count": 16,
   "metadata": {},
   "outputs": [],
   "source": [
    "def fill_a_ub(table_data: pd.DataFrame):\n",
    "    \"\"\"\n",
    "    Считываем переменные левой части уравнения и записываем их в массив\n",
    "    :param: table_data: DataFrame with values\n",
    "    :return: 2D array of values\n",
    "    \"\"\"\n",
    "    out_of_materials_stocks = table_data.drop('Запасы сырья', axis=1)\n",
    "    return out_of_materials_stocks.values"
   ]
  },
  {
   "cell_type": "code",
   "execution_count": 17,
   "metadata": {},
   "outputs": [],
   "source": [
    "def fill_b_ub(table_data: pd.DataFrame):\n",
    "    \"\"\"\n",
    "    Считываем переменные правой части уравнения и записываем их в массив\n",
    "    :param: table_data: DataFrame with values\n",
    "    :return: 1D array of values\n",
    "    \"\"\"\n",
    "    return table_data['Запасы сырья'].values"
   ]
  },
  {
   "cell_type": "code",
   "execution_count": 18,
   "metadata": {},
   "outputs": [],
   "source": [
    "c = fill_c(prices)\n",
    "a_ub = fill_a_ub(table_data)\n",
    "b_ub = fill_b_ub(table_data)"
   ]
  },
  {
   "cell_type": "markdown",
   "metadata": {},
   "source": [
    "$\\Large F=210*x_{1}+70*x_{2}+140*x_{3}+350*x_{4} \\xrightarrow{} max $"
   ]
  },
  {
   "cell_type": "markdown",
   "metadata": {},
   "source": [
    "$\\Large \\begin{cases} 3*x_1 + 1*x_2 + 2*x_3 + 5*x_4 \\leq 30 \\\\ 9*x_1 + 3*x_2 + 6*x_3 + 15*x_4 \\leq 90 \\\\ 45*x_1 + 15*x_2 + 30*x_3 + 75*x_4 \\leq 350 \\end{cases}$"
   ]
  },
  {
   "cell_type": "code",
   "execution_count": 19,
   "metadata": {},
   "outputs": [],
   "source": [
    "result = linprog(c=c, A_ub=a_ub, b_ub=b_ub)"
   ]
  },
  {
   "cell_type": "code",
   "execution_count": 20,
   "metadata": {},
   "outputs": [
    {
     "data": {
      "text/plain": [
       "     con: array([], dtype=float64)\n",
       "     fun: -1633.3333311874344\n",
       " message: 'Optimization terminated successfully.'\n",
       "     nit: 4\n",
       "   slack: array([6.66666670e+00, 2.00000001e+01, 4.59835519e-07])\n",
       "  status: 0\n",
       " success: True\n",
       "       x: array([1.82978386, 3.57887523, 2.47049167, 1.86482463])"
      ]
     },
     "execution_count": 20,
     "metadata": {},
     "output_type": "execute_result"
    }
   ],
   "source": [
    "result"
   ]
  },
  {
   "cell_type": "code",
   "execution_count": null,
   "metadata": {},
   "outputs": [],
   "source": []
  }
 ],
 "metadata": {
  "kernelspec": {
   "display_name": "Python 3",
   "language": "python",
   "name": "python3"
  },
  "language_info": {
   "codemirror_mode": {
    "name": "ipython",
    "version": 3
   },
   "file_extension": ".py",
   "mimetype": "text/x-python",
   "name": "python",
   "nbconvert_exporter": "python",
   "pygments_lexer": "ipython3",
   "version": "3.7.4"
  }
 },
 "nbformat": 4,
 "nbformat_minor": 4
}
