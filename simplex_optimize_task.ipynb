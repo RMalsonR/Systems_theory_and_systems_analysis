{
 "cells": [
  {
   "cell_type": "code",
   "execution_count": 312,
   "metadata": {},
   "outputs": [],
   "source": [
    "import numpy as np\n",
    "import pandas as pd\n",
    "from scipy.optimize import linprog\n",
    "import warnings\n",
    "warnings.filterwarnings('ignore')"
   ]
  },
  {
   "cell_type": "code",
   "execution_count": 313,
   "metadata": {},
   "outputs": [],
   "source": [
    "table_data = pd.read_csv('data_table.csv', index_col='Сырье')\n",
    "prices = pd.read_csv('prices.csv')"
   ]
  },
  {
   "cell_type": "code",
   "execution_count": 314,
   "metadata": {},
   "outputs": [
    {
     "data": {
      "text/html": [
       "<div>\n",
       "<style scoped>\n",
       "    .dataframe tbody tr th:only-of-type {\n",
       "        vertical-align: middle;\n",
       "    }\n",
       "\n",
       "    .dataframe tbody tr th {\n",
       "        vertical-align: top;\n",
       "    }\n",
       "\n",
       "    .dataframe thead th {\n",
       "        text-align: right;\n",
       "    }\n",
       "</style>\n",
       "<table border=\"1\" class=\"dataframe\">\n",
       "  <thead>\n",
       "    <tr style=\"text-align: right;\">\n",
       "      <th></th>\n",
       "      <th>Запасы сырья</th>\n",
       "      <th>Затраты на стол</th>\n",
       "      <th>Затраты на стул</th>\n",
       "      <th>Затраты на бюро</th>\n",
       "      <th>Затраты на книжный шкаф</th>\n",
       "    </tr>\n",
       "    <tr>\n",
       "      <th>Сырье</th>\n",
       "      <th></th>\n",
       "      <th></th>\n",
       "      <th></th>\n",
       "      <th></th>\n",
       "      <th></th>\n",
       "    </tr>\n",
       "  </thead>\n",
       "  <tbody>\n",
       "    <tr>\n",
       "      <th>Доски 1</th>\n",
       "      <td>1500</td>\n",
       "      <td>5</td>\n",
       "      <td>1</td>\n",
       "      <td>9</td>\n",
       "      <td>12</td>\n",
       "    </tr>\n",
       "    <tr>\n",
       "      <th>Доски 2</th>\n",
       "      <td>1000</td>\n",
       "      <td>2</td>\n",
       "      <td>3</td>\n",
       "      <td>4</td>\n",
       "      <td>13</td>\n",
       "    </tr>\n",
       "    <tr>\n",
       "      <th>Труд. затраты</th>\n",
       "      <td>800</td>\n",
       "      <td>3</td>\n",
       "      <td>2</td>\n",
       "      <td>5</td>\n",
       "      <td>10</td>\n",
       "    </tr>\n",
       "  </tbody>\n",
       "</table>\n",
       "</div>"
      ],
      "text/plain": [
       "               Запасы сырья  Затраты на стол  Затраты на стул  \\\n",
       "Сырье                                                           \n",
       "Доски 1                1500                5                1   \n",
       "Доски 2                1000                2                3   \n",
       "Труд. затраты           800                3                2   \n",
       "\n",
       "               Затраты на бюро  Затраты на книжный шкаф  \n",
       "Сырье                                                    \n",
       "Доски 1                      9                       12  \n",
       "Доски 2                      4                       13  \n",
       "Труд. затраты                5                       10  "
      ]
     },
     "execution_count": 314,
     "metadata": {},
     "output_type": "execute_result"
    }
   ],
   "source": [
    "table_data.head()"
   ]
  },
  {
   "cell_type": "code",
   "execution_count": 315,
   "metadata": {},
   "outputs": [
    {
     "data": {
      "text/html": [
       "<div>\n",
       "<style scoped>\n",
       "    .dataframe tbody tr th:only-of-type {\n",
       "        vertical-align: middle;\n",
       "    }\n",
       "\n",
       "    .dataframe tbody tr th {\n",
       "        vertical-align: top;\n",
       "    }\n",
       "\n",
       "    .dataframe thead th {\n",
       "        text-align: right;\n",
       "    }\n",
       "</style>\n",
       "<table border=\"1\" class=\"dataframe\">\n",
       "  <thead>\n",
       "    <tr style=\"text-align: right;\">\n",
       "      <th></th>\n",
       "      <th>Цена стола</th>\n",
       "      <th>Цена стула</th>\n",
       "      <th>Цена бюро</th>\n",
       "      <th>Цена книжного шкафа</th>\n",
       "    </tr>\n",
       "  </thead>\n",
       "  <tbody>\n",
       "    <tr>\n",
       "      <th>0</th>\n",
       "      <td>12</td>\n",
       "      <td>5</td>\n",
       "      <td>15</td>\n",
       "      <td>10</td>\n",
       "    </tr>\n",
       "  </tbody>\n",
       "</table>\n",
       "</div>"
      ],
      "text/plain": [
       "   Цена стола  Цена стула  Цена бюро  Цена книжного шкафа\n",
       "0          12           5         15                   10"
      ]
     },
     "execution_count": 315,
     "metadata": {},
     "output_type": "execute_result"
    }
   ],
   "source": [
    "prices.head()"
   ]
  },
  {
   "cell_type": "markdown",
   "metadata": {},
   "source": [
    "$\\Large F=c_{1}*x_{1}+c_{2}*x_{2}+c_{3}*x_{3}+c_{4}*x_{4} \\xrightarrow{} max $"
   ]
  },
  {
   "cell_type": "markdown",
   "metadata": {},
   "source": [
    "$\\Large \\begin{cases} a_{11}*x_1 + a_{12}*x_2 + a_{13}*x_3 + a_{14}*x_4 \\leq b_1 \\\\ a_{21}*x_1 + a_{22}*x_2 + a_{23}*x_3 + a_{24}*x_4 \\leq b_2 \\\\ a_{31}*x_1 + a_{32}*x_2 + a_{33}*x_3 + a_{34}*x_4 \\leq b_3 \\end{cases}$"
   ]
  },
  {
   "cell_type": "code",
   "execution_count": 316,
   "metadata": {},
   "outputs": [],
   "source": [
    "def fill_c(prices: pd.DataFrame):\n",
    "    \"\"\"\n",
    "    Считываем переменные целевой функции, умножив их на -1, и заполняем ими массив\n",
    "    :param: prices: DataFrame with values\n",
    "    :return: 1D array of values\n",
    "    \"\"\"\n",
    "    return np.negative(prices.values[0])"
   ]
  },
  {
   "cell_type": "code",
   "execution_count": 317,
   "metadata": {},
   "outputs": [],
   "source": [
    "def fill_a_ub(table_data: pd.DataFrame):\n",
    "    \"\"\"\n",
    "    Считываем переменные левой части уравнения и записываем их в массив\n",
    "    :param: table_data: DataFrame with values\n",
    "    :return: 2D array of values\n",
    "    \"\"\"\n",
    "    out_of_materials_stocks = table_data.drop('Запасы сырья', axis=1)\n",
    "    return out_of_materials_stocks.values"
   ]
  },
  {
   "cell_type": "code",
   "execution_count": 318,
   "metadata": {},
   "outputs": [],
   "source": [
    "def fill_b_ub(table_data: pd.DataFrame):\n",
    "    \"\"\"\n",
    "    Считываем переменные правой части уравнения и записываем их в массив\n",
    "    :param: table_data: DataFrame with values\n",
    "    :return: 1D array of values\n",
    "    \"\"\"\n",
    "    return table_data['Запасы сырья'].values"
   ]
  },
  {
   "cell_type": "code",
   "execution_count": 319,
   "metadata": {},
   "outputs": [],
   "source": [
    "c = fill_c(prices)\n",
    "a_ub = fill_a_ub(table_data)\n",
    "b_ub = fill_b_ub(table_data)"
   ]
  },
  {
   "cell_type": "code",
   "execution_count": 320,
   "metadata": {},
   "outputs": [
    {
     "data": {
      "text/plain": [
       "array([-12,  -5, -15, -10])"
      ]
     },
     "execution_count": 320,
     "metadata": {},
     "output_type": "execute_result"
    }
   ],
   "source": [
    "c"
   ]
  },
  {
   "cell_type": "code",
   "execution_count": 321,
   "metadata": {},
   "outputs": [
    {
     "data": {
      "text/plain": [
       "array([[ 5,  1,  9, 12],\n",
       "       [ 2,  3,  4, 13],\n",
       "       [ 3,  2,  5, 10]])"
      ]
     },
     "execution_count": 321,
     "metadata": {},
     "output_type": "execute_result"
    }
   ],
   "source": [
    "a_ub"
   ]
  },
  {
   "cell_type": "code",
   "execution_count": 322,
   "metadata": {},
   "outputs": [
    {
     "data": {
      "text/plain": [
       "array([1500, 1000,  800])"
      ]
     },
     "execution_count": 322,
     "metadata": {},
     "output_type": "execute_result"
    }
   ],
   "source": [
    "b_ub"
   ]
  },
  {
   "cell_type": "code",
   "execution_count": 323,
   "metadata": {},
   "outputs": [],
   "source": [
    "n = len(b_ub)"
   ]
  },
  {
   "cell_type": "markdown",
   "metadata": {},
   "source": [
    "$\\Large F=12*x_{1}+5*x_{2}+15*x_{3}+10*x_{4} \\xrightarrow{} max $"
   ]
  },
  {
   "cell_type": "markdown",
   "metadata": {},
   "source": [
    "$\\Large \\begin{cases} 5*x_1 + 1*x_2 + 9*x_3 + 12*x_4 \\leq 1500 \\\\ 2*x_1 + 3*x_2 + 4*x_3 + 13*x_4 \\leq 1000 \\\\ 3*x_1 + 2*x_2 + 5*x_3 + 10*x_4 \\leq 800 \\end{cases}$"
   ]
  },
  {
   "cell_type": "code",
   "execution_count": 324,
   "metadata": {},
   "outputs": [],
   "source": [
    "result = linprog(c=c, A_ub=a_ub, b_ub=b_ub, method='revised simplex')"
   ]
  },
  {
   "cell_type": "code",
   "execution_count": 325,
   "metadata": {},
   "outputs": [
    {
     "data": {
      "text/plain": [
       "     con: array([], dtype=float64)\n",
       "     fun: -3200.0\n",
       " message: 'Optimization terminated successfully.'\n",
       "     nit: 2\n",
       "   slack: array([166.66666667, 466.66666667,   0.        ])\n",
       "  status: 0\n",
       " success: True\n",
       "       x: array([266.66666667,   0.        ,   0.        ,   0.        ])"
      ]
     },
     "execution_count": 325,
     "metadata": {},
     "output_type": "execute_result"
    }
   ],
   "source": [
    "result"
   ]
  },
  {
   "cell_type": "code",
   "execution_count": 326,
   "metadata": {},
   "outputs": [
    {
     "data": {
      "text/plain": [
       "array([166.66666667, 466.66666667,   0.        ])"
      ]
     },
     "execution_count": 326,
     "metadata": {},
     "output_type": "execute_result"
    }
   ],
   "source": [
    "result.slack"
   ]
  },
  {
   "cell_type": "markdown",
   "metadata": {},
   "source": [
    "Анализ на чувствительность - изменение коэффициентов правой части ограничений  \n",
    "Будем уменьшать запасы"
   ]
  },
  {
   "cell_type": "code",
   "execution_count": 327,
   "metadata": {},
   "outputs": [],
   "source": [
    "A=a_ub"
   ]
  },
  {
   "cell_type": "markdown",
   "metadata": {},
   "source": [
    "Создадим матрицу дополнительных векторов размера [n, n], потому что у нас есть n ограничений, которые нужны нам n раз"
   ]
  },
  {
   "cell_type": "code",
   "execution_count": 328,
   "metadata": {},
   "outputs": [],
   "source": [
    "A_slack = np.ones([n, n])"
   ]
  },
  {
   "cell_type": "markdown",
   "metadata": {},
   "source": [
    "Получим номера базисных векторов"
   ]
  },
  {
   "cell_type": "code",
   "execution_count": 329,
   "metadata": {},
   "outputs": [
    {
     "data": {
      "text/plain": [
       "(array([0]), array([3, 4]))"
      ]
     },
     "execution_count": 329,
     "metadata": {},
     "output_type": "execute_result"
    }
   ],
   "source": [
    "# основные вектора\n",
    "base_ind = np.nonzero(result.x)[0]\n",
    "# доп вектора\n",
    "base_ind_extra = np.nonzero(result.slack)[0]+n\n",
    "base_ind, base_ind_extra"
   ]
  },
  {
   "cell_type": "markdown",
   "metadata": {},
   "source": [
    "Объединим два списка базисных векторов"
   ]
  },
  {
   "cell_type": "code",
   "execution_count": 330,
   "metadata": {},
   "outputs": [
    {
     "data": {
      "text/plain": [
       "array([0, 3, 4])"
      ]
     },
     "execution_count": 330,
     "metadata": {},
     "output_type": "execute_result"
    }
   ],
   "source": [
    "base_ind = np.concatenate((base_ind, base_ind_extra))\n",
    "base_ind"
   ]
  },
  {
   "cell_type": "markdown",
   "metadata": {},
   "source": [
    "Формируем базисную матрицу и столбец базисных коэффициентов целевой функции"
   ]
  },
  {
   "cell_type": "code",
   "execution_count": 331,
   "metadata": {},
   "outputs": [],
   "source": [
    "basis = []\n",
    "c_bas = []\n",
    "\n",
    "for i in range(n):\n",
    "    if base_ind[i] < n:\n",
    "        basis.append(A[:, base_ind[i]])\n",
    "        c_bas.append(c[base_ind[i]])\n",
    "    else:\n",
    "        basis.append(A_slack[:, base_ind[i]-n])\n",
    "        c_bas.append(0)\n",
    "        \n",
    "basis = np.reshape(basis, (n, n)).T"
   ]
  },
  {
   "cell_type": "markdown",
   "metadata": {},
   "source": [
    "Получим обратную матрицу"
   ]
  },
  {
   "cell_type": "code",
   "execution_count": 332,
   "metadata": {},
   "outputs": [],
   "source": [
    "basis_inv = np.linalg.inv(basis)"
   ]
  },
  {
   "cell_type": "markdown",
   "metadata": {},
   "source": [
    "#### Запустим пошаговый анализ:\n",
    "1. Для этого получим вектор $cb*B^{-1}$\n",
    "2. Получим оценки основных векторов\n",
    "3. Получим оценки дополнительных векторов\n",
    "4. Получим коэффициенты разложения вектора $P_0$\n",
    "5. Проверяем знак коэффициентов разложения вектора $P_0$\n",
    "6. Проверим не есть ли наше решение оптималным, если так, прекращаем работу цикла. Иначе:\n",
    "7. Запоминаем индект отрицального коэффициента\n",
    "8. Находим вектор, который выводится из базиса\n",
    "9. Вычисляем коэффициенты разложения по базису вектора, который вводится в базис\n",
    "10. Находим вектор, который выводится из базиса\n",
    "11. Делаем пересчёт по формулам базиса, а именно:\n",
    "    * Заменяем номер базисного вектора\n",
    "    * Заменяем коэффициент целевой функции при базисном векторе "
   ]
  },
  {
   "cell_type": "code",
   "execution_count": 355,
   "metadata": {},
   "outputs": [],
   "source": [
    "def sensitivity_analysis(b_ub_new :list):\n",
    "    \"\"\"\n",
    "    Основная функция анализа на чувствительность.\n",
    "    :params:b_ub_new: 1D array of new values on the right side of the constraint\n",
    "    :return:\n",
    "            nit: number of iterations\n",
    "            p_0: expansion coefficients of the vector P_0\n",
    "            base_ind: coefficients of basis vector\n",
    "            fx: new value of objective function\n",
    "    \"\"\"\n",
    "    nit = 0\n",
    "    B = np.array(b_ub_new)\n",
    "    while True:\n",
    "        cb = np.dot(c_bas, basis_inv)\n",
    "        delta_main = np.dot(cb, A) - c\n",
    "        delta_extra = np.dot(cb, A_slack)\n",
    "        delta = np.concatenate((delta_main, delta_extra))\n",
    "        p_0 = np.dot(basis_inv, B)\n",
    "\n",
    "        if np.min(p_0) >= 0:\n",
    "            print('Решение достигло оптимума')\n",
    "            break\n",
    "        else:\n",
    "            ind = np.argmin(p_0)\n",
    "\n",
    "        index = -1\n",
    "        minimum = 10000\n",
    "        for i in range(n):\n",
    "            find_min = np.dot(basis_inv[ind, :], A_slack[:, i]) \n",
    "            if find_min < 0:\n",
    "                if abs(delta[i]/find_min) < minimum:\n",
    "                    index = i\n",
    "                    minimum = delta[i]/find_min\n",
    "\n",
    "        if index < n:\n",
    "            p_j = np.dot(basis_inv, A[:, index])\n",
    "            c_new_basis = c[index]\n",
    "        else:\n",
    "            p_j = np.dot(basis_inv, A[:, index-n])\n",
    "            c_new_basis = 0\n",
    "\n",
    "\n",
    "        base_ind[ind] = index\n",
    "        c_bas[ind] = c_new_basis\n",
    "\n",
    "        basis_inv[ind, :] /= p_j[ind]\n",
    "        for i in range(n):\n",
    "            if i != ind:\n",
    "                basis_inv[i, :] -= basis_inv[ind, :]*p_j[i]\n",
    "        nit += 1\n",
    "        if nit > 100000:\n",
    "            break\n",
    "    fx = np.dot(p_0, c_bas)\n",
    "    return [nit, p_0, base_ind, fx]"
   ]
  },
  {
   "cell_type": "code",
   "execution_count": 356,
   "metadata": {},
   "outputs": [],
   "source": [
    "def show_result(result):\n",
    "    \"\"\"\n",
    "    Выводим результат наших вычислений.\n",
    "    :params:result: 1D array of values with returned in sensitivity_analysis\n",
    "    :return: nothing\n",
    "    \"\"\"\n",
    "    print('Количество интераций: {}\\nКоэффициентры разложения вектора p_0: {}' \\\n",
    "          '\\nБазисный векор: {}\\nНовое значение целевой функции: {}'.format(result[0], result[1], result[2], result[3]))"
   ]
  },
  {
   "cell_type": "markdown",
   "metadata": {},
   "source": [
    "Уменьшим запасы доски 1 с 1500 до 1300, то есть уменьшим $b_1$ до 1300"
   ]
  },
  {
   "cell_type": "code",
   "execution_count": 357,
   "metadata": {},
   "outputs": [
    {
     "name": "stdout",
     "output_type": "stream",
     "text": [
      "Решение достигло оптимума\n",
      "Количество интераций: 0\n",
      "Коэффициентры разложения вектора p_0: [  0.    0.  112.5]\n",
      "Базисный векор: [ 0  3 -1]\n",
      "Новое значение целевой функции: -1124.9999999999995\n"
     ]
    }
   ],
   "source": [
    "show_result(sensitivity_analysis([1300, 1000, 800]))"
   ]
  },
  {
   "cell_type": "markdown",
   "metadata": {},
   "source": [
    "Уменьшим запасы доски 2 с 1000 до 800, то есть уменьшим $b_2$ до 800"
   ]
  },
  {
   "cell_type": "code",
   "execution_count": 345,
   "metadata": {},
   "outputs": [
    {
     "name": "stdout",
     "output_type": "stream",
     "text": [
      "Решение достигло оптимума\n",
      "Количество интераций: 0\n",
      "Коэффициентры разложения вектора p_0: [ 0.   0.  87.5]\n",
      "Базисный векор: [ 0  3 -1]\n",
      "Новое значение целевой функции: -875.0\n"
     ]
    }
   ],
   "source": [
    "show_result(sensitivity_analysis([1500, 800, 800]))"
   ]
  },
  {
   "cell_type": "markdown",
   "metadata": {},
   "source": [
    "Уменьшим трудовые запасы с 800 до 200, то есть уменьшим $b_3$ до 200"
   ]
  },
  {
   "cell_type": "code",
   "execution_count": 369,
   "metadata": {},
   "outputs": [
    {
     "name": "stdout",
     "output_type": "stream",
     "text": [
      "Решение достигло оптимума\n",
      "Количество интераций: 0\n",
      "Коэффициентры разложения вектора p_0: [  0.    0.  362.5]\n",
      "Базисный векор: [ 0  3 -1]\n",
      "Новое значение целевой функции: -3624.999999999999\n"
     ]
    }
   ],
   "source": [
    "show_result(sensitivity_analysis([1500, 1000, 200]))"
   ]
  },
  {
   "cell_type": "markdown",
   "metadata": {},
   "source": [
    "Попробуем уменьшить запасы досок, исходя из того, что трудовые затраты можно сократить до 200"
   ]
  },
  {
   "cell_type": "code",
   "execution_count": 378,
   "metadata": {},
   "outputs": [
    {
     "name": "stdout",
     "output_type": "stream",
     "text": [
      "Решение достигло оптимума\n",
      "Количество интераций: 0\n",
      "Коэффициентры разложения вектора p_0: [  0.   0. 350.]\n",
      "Базисный векор: [ 0  3 -1]\n",
      "Новое значение целевой функции: -3499.999999999999\n"
     ]
    }
   ],
   "source": [
    "show_result(sensitivity_analysis([1500, 950, 200]))"
   ]
  },
  {
   "cell_type": "code",
   "execution_count": 379,
   "metadata": {},
   "outputs": [
    {
     "name": "stdout",
     "output_type": "stream",
     "text": [
      "Решение достигло оптимума\n",
      "Количество интераций: 0\n",
      "Коэффициентры разложения вектора p_0: [  0.     0.   356.25]\n",
      "Базисный векор: [ 0  3 -1]\n",
      "Новое значение целевой функции: -3562.499999999999\n"
     ]
    }
   ],
   "source": [
    "show_result(sensitivity_analysis([1450, 1000, 200]))"
   ]
  },
  {
   "cell_type": "markdown",
   "metadata": {},
   "source": [
    "Делаем вывод, что запасы досок находятся в своём оптимуме: 1500м досок первого типа и 1000м досок второго типа. При этом трудовые запасы на изготовление продукции можно сокращать. Это связано с тем, что сотрудники без дела - так же получают зарплату, значит нужно сократить трудовые запасы, чтобы сотрудники не простаивались по истечению ресурсов досок"
   ]
  }
 ],
 "metadata": {
  "kernelspec": {
   "display_name": "Python 3",
   "language": "python",
   "name": "python3"
  },
  "language_info": {
   "codemirror_mode": {
    "name": "ipython",
    "version": 3
   },
   "file_extension": ".py",
   "mimetype": "text/x-python",
   "name": "python",
   "nbconvert_exporter": "python",
   "pygments_lexer": "ipython3",
   "version": "3.7.4"
  }
 },
 "nbformat": 4,
 "nbformat_minor": 4
}
