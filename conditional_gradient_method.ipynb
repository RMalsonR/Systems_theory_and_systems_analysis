{
 "cells": [
  {
   "cell_type": "code",
   "execution_count": 12,
   "metadata": {},
   "outputs": [],
   "source": [
    "import warnings\n",
    "warnings.filterwarnings('ignore')"
   ]
  },
  {
   "cell_type": "code",
   "execution_count": 22,
   "metadata": {},
   "outputs": [],
   "source": [
    "import numpy\n",
    "from sympy import *\n",
    "from scipy.optimize import linprog"
   ]
  },
  {
   "cell_type": "markdown",
   "metadata": {},
   "source": [
    "$$\\Large x^2 + 3y^2 - 3xy + x - 6y \\xrightarrow{} min$$\n"
   ]
  },
  {
   "cell_type": "markdown",
   "metadata": {},
   "source": [
    "$$\\Large \\begin{cases} 4x + 3y \\leq 12 \\\\ -x + y \\leq 1 \\\\ x \\geq 0 \\\\ xy \\geq 0 \\end{cases}$$\n"
   ]
  },
  {
   "cell_type": "code",
   "execution_count": 14,
   "metadata": {},
   "outputs": [],
   "source": [
    "def func(x):\n",
    "    \"\"\"\n",
    "    Определение целевой функции\n",
    "    :params: x: 1D array of values\n",
    "    :return: calculated target function\n",
    "    \"\"\"\n",
    "    return (x[0]**2 + 3*x[1]**2 - 3*x[0]*x[1] + x[0] - 6*x[1])"
   ]
  },
  {
   "cell_type": "code",
   "execution_count": null,
   "metadata": {},
   "outputs": [],
   "source": [
    "def func_str():\n",
    "    \"\"\"\n",
    "    Определение целевой функции в формате str\n",
    "    :return: str of func\n",
    "    \"\"\"\n",
    "    return 'x[0] * x[0] + 3*x[1] * x[1] - 3 * x[0] * x[1] +  x[0] - 6* x[1]'"
   ]
  },
  {
   "cell_type": "code",
   "execution_count": 24,
   "metadata": {},
   "outputs": [],
   "source": [
    "def funcdxdy(x):\n",
    "    \"\"\"\n",
    "    Частные производные\n",
    "    :params: x: 1D array of values\n",
    "    :return: tuple of list of 2 tuple private derivatives\n",
    "    \"\"\"\n",
    "    return ([(2*x[0] - 3*x[1] + 1), (6*x[1] -3* x[0] - 6)])"
   ]
  },
  {
   "cell_type": "code",
   "execution_count": 25,
   "metadata": {},
   "outputs": [],
   "source": [
    "def func_kA():\n",
    "    return [[1,1],[-2,1],[-1,0],[0,-1]]\n",
    "\n",
    "def func_kB():\n",
    "    return [3,2,0,0]"
   ]
  },
  {
   "cell_type": "code",
   "execution_count": 26,
   "metadata": {},
   "outputs": [],
   "source": [
    "def step(lam):\n",
    "    \"\"\"\n",
    "    Функция шага градиентного спуска\n",
    "    :params: lam: 1D array of values lambda\n",
    "    :return: value of direction\n",
    "    \"\"\"\n",
    "    z_str = func_str()\n",
    "    z_str = z_str.replace('x[0]', lam[0])\n",
    "    z_str = z_str.replace('x[1]', lam[1])\n",
    "    z_str= z_str.replace('l', 'x')\n",
    "    x = Symbol('x')\n",
    "    z_d = eval(z_str)\n",
    "    xprime = z_d.diff(x)\n",
    "    xprime1 = str(xprime)\n",
    "    x = xprime1.split(\" \")\n",
    "    left,right = [],[]\n",
    "    sign = 0\n",
    "    for i in range(len(x)):\n",
    "        if x[i]=='-':\n",
    "            sign = 1\n",
    "            continue\n",
    "        if x[i]=='+':\n",
    "            sign = -1\n",
    "            continue\n",
    "        xh = x[i].split(\"*\")\n",
    "        if xh[0]==x[i]:\n",
    "            if sign!=0:\n",
    "                right.append(float(x[i])*sign)\n",
    "            else:\n",
    "                right.append(float(x[i]))\n",
    "        else:\n",
    "            if sign==0:\n",
    "                left.append(x[i])\n",
    "            else:\n",
    "                left.append((str(sign)+str('*')+str(x[i])))\n",
    "    return right[0]/float(left[0].split(\"*\")[0])"
   ]
  },
  {
   "cell_type": "code",
   "execution_count": null,
   "metadata": {},
   "outputs": [
    {
     "name": "stdout",
     "output_type": "stream",
     "text": [
      "x0: [1, 1]\n"
     ]
    }
   ],
   "source": [
    "x0=[1,1]\n",
    "eps = 0.001\n",
    "nit = 0\n",
    "print(\"x0: \" + str(x0))\n",
    "while True:\n",
    "    f_value = func(x0)\n",
    "    f_value_x0 = funcdxdy(x0)\n",
    "    a = func_kA()\n",
    "    b = func_kB()\n",
    "    _x0 = linprog(f_value_x0, a, b).x\n",
    "    s0 = _x0 - x0\n",
    "    \n",
    "    if s0[0]<0:\n",
    "        lam1 = str('(' ) + str(x0[0])+str(s0[0]) + str('*l')+str(')')\n",
    "    else:\n",
    "        lam1 = str('(' ) + str(x0[0])+ str('+')+ str(s0[0]) + str('*l')+str(')')\n",
    "    if s0[1]<0:\n",
    "        lam2 = str('(' ) + str(x0[1])+str(s0[1]) + str('*l')+str(')')\n",
    "    else:\n",
    "        lam2 = str('(' ) + str(x0[1])+ str('+')+ str(s0[1]) + str('*l')+str(')')\n",
    "    lam = (lam1,lam2)\n",
    "    a = min(1,shag(lam))\n",
    "    x_new = x0+numpy.dot(a,s0)\n",
    "    \n",
    "    xp0 = x0[0]-x_new[0]\n",
    "    xp1 = x0[1]-x_new[1]\n",
    "    xpres = (xp0**2+xp1**2)**(1/2)\n",
    "    xdeltares = (funcdxdy(x_new)[0]**2+funcdxdy(x_new)[1]**2)**(1/2)\n",
    "    \n",
    "    if abs(xpres)<=eps:\n",
    "        print(\"Fun: \" + str(f_value))\n",
    "        print(\"x: \" + str(x_new))\n",
    "        print(\"nit: \" + str(nit+1))\n",
    "        break\n",
    "    \n",
    "    if abs(xdeltares)<=eps:\n",
    "        print(\"Fun: \" + str(f_value))\n",
    "        print(\"x: \" + str(x_new))\n",
    "        print(\"nit: \" + str(nit+1))\n",
    "        break \n",
    "    x0 = x_new\n",
    "    nit = nit + 1"
   ]
  },
  {
   "cell_type": "code",
   "execution_count": null,
   "metadata": {},
   "outputs": [],
   "source": []
  }
 ],
 "metadata": {
  "kernelspec": {
   "display_name": "Python 3",
   "language": "python",
   "name": "python3"
  },
  "language_info": {
   "codemirror_mode": {
    "name": "ipython",
    "version": 3
   },
   "file_extension": ".py",
   "mimetype": "text/x-python",
   "name": "python",
   "nbconvert_exporter": "python",
   "pygments_lexer": "ipython3",
   "version": "3.7.4"
  }
 },
 "nbformat": 4,
 "nbformat_minor": 4
}
