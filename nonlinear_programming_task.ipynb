{
 "cells": [
  {
   "cell_type": "code",
   "execution_count": 1,
   "metadata": {},
   "outputs": [],
   "source": [
    "import warnings\n",
    "warnings.filterwarnings('ignore')"
   ]
  },
  {
   "cell_type": "code",
   "execution_count": 2,
   "metadata": {},
   "outputs": [],
   "source": [
    "import numpy as np\n",
    "from scipy.optimize import minimize"
   ]
  },
  {
   "cell_type": "markdown",
   "metadata": {},
   "source": [
    "$$\\Large x^2_1 + 3x^2_2 - 3x_1x_2 + x_1 - 6x_2 \\xrightarrow{} min$$"
   ]
  },
  {
   "cell_type": "markdown",
   "metadata": {},
   "source": [
    "$$\\Large \\begin{cases} 4x_1 + 3x_2 \\leq 12 \\\\ -x_1 + x_2 \\leq 1 \\\\ x_1 \\geq 0 \\\\ x_2 \\geq 0 \\end{cases}$$"
   ]
  },
  {
   "cell_type": "code",
   "execution_count": 6,
   "metadata": {},
   "outputs": [],
   "source": [
    "def func(x):\n",
    "    \"\"\"\n",
    "    Определение целевой функции\n",
    "    :params: x: 1D array of values\n",
    "    \"return: calculated target function\n",
    "    \"\"\"\n",
    "    return (x[0]**2 + 3*x[1]**2 - 3*x[0]*x[1] + x[0] - 6*x[1])"
   ]
  },
  {
   "cell_type": "code",
   "execution_count": 14,
   "metadata": {},
   "outputs": [],
   "source": [
    "def func_derivative(x):\n",
    "    \"\"\"\n",
    "    Производные от двух переменных x1 и x2\n",
    "    :params: x: 1D array of values\n",
    "    :return: numpy array of 2 derivative\n",
    "    \"\"\"\n",
    "    dfdx0 = (2*x[0] - 3*x[1] + 1)\n",
    "    dfdx1 = (6*x[1] - 3*x[0] - 6)\n",
    "    return np.array([dfdx0, dfdx1])"
   ]
  },
  {
   "cell_type": "code",
   "execution_count": 28,
   "metadata": {},
   "outputs": [],
   "source": [
    "constraints = (\n",
    "    {'type': 'ineq', 'fun': lambda x: np.array([-4*x[0] - 3*x[1] + 12]), 'jac': lambda x: np.array([8.0, 9.0])},\n",
    "    {'type': 'ineq', 'fun': lambda x: np.array([+x[0] - x[1] + 1]), 'jac': lambda x: np.array([1.0, 1.0])},\n",
    "    {'type': 'ineq', 'fun': lambda x: np.array([x[0]]), 'jac': lambda x: np.array([1.0, 0.0])},\n",
    "    {'type': 'ineq', 'fun': lambda x: np.array([x[1]]), 'jac': lambda x: np.array([0.0, 1.0])},\n",
    ")"
   ]
  },
  {
   "cell_type": "code",
   "execution_count": 29,
   "metadata": {},
   "outputs": [
    {
     "name": "stdout",
     "output_type": "stream",
     "text": [
      "      fun: -6.999905384321565\n",
      " hess_inv: array([[1.99991571, 1.00062796],\n",
      "       [1.00062796, 0.66198815]])\n",
      "      jac: array([ 0.01453274, -0.0329994 ])\n",
      "  message: 'Maximum number of iterations has been exceeded.'\n",
      "     nfev: 4\n",
      "      nit: 3\n",
      "     njev: 4\n",
      "   status: 1\n",
      "  success: False\n",
      "        x: array([3.99606607, 2.99253313])\n"
     ]
    }
   ],
   "source": [
    "result = minimize(func, [0,0], jac=func_derivative, options={'maxiter': 3})\n",
    "print(result)"
   ]
  },
  {
   "cell_type": "code",
   "execution_count": 30,
   "metadata": {},
   "outputs": [
    {
     "name": "stdout",
     "output_type": "stream",
     "text": [
      "     fun: -6.9999999999999964\n",
      "     jac: array([-1.77635684e-15,  3.55271368e-15])\n",
      " message: 'Iteration limit exceeded'\n",
      "    nfev: 5\n",
      "     nit: 4\n",
      "    njev: 4\n",
      "  status: 9\n",
      " success: False\n",
      "       x: array([4., 3.])\n"
     ]
    }
   ],
   "source": [
    "result = minimize(func, [0,0], jac=func_derivative, constraints=constraints, options={'maxiter': 3})\n",
    "print(result)"
   ]
  },
  {
   "cell_type": "code",
   "execution_count": null,
   "metadata": {},
   "outputs": [],
   "source": []
  }
 ],
 "metadata": {
  "kernelspec": {
   "display_name": "Python 3",
   "language": "python",
   "name": "python3"
  },
  "language_info": {
   "codemirror_mode": {
    "name": "ipython",
    "version": 3
   },
   "file_extension": ".py",
   "mimetype": "text/x-python",
   "name": "python",
   "nbconvert_exporter": "python",
   "pygments_lexer": "ipython3",
   "version": "3.7.4"
  }
 },
 "nbformat": 4,
 "nbformat_minor": 4
}
